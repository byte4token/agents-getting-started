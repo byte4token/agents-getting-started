{
 "cells": [
  {
   "cell_type": "markdown",
   "id": "1618ed1a",
   "metadata": {},
   "source": [
    "# Setup"
   ]
  },
  {
   "cell_type": "markdown",
   "id": "a04a1b77",
   "metadata": {},
   "source": [
    "1. Install Requirements"
   ]
  },
  {
   "cell_type": "code",
   "execution_count": null,
   "id": "c1d31d29",
   "metadata": {},
   "outputs": [],
   "source": [
    "!pip install -r requirements.txt"
   ]
  },
  {
   "cell_type": "markdown",
   "id": "ef029e48",
   "metadata": {},
   "source": [
    "2. Install azd\n",
    "https://learn.microsoft.com/en-us/azure/developer/azure-developer-cli/install-azd?tabs=winget-windows%2Cbrew-mac%2Cscript-linux&pivots=os-mac\n",
    "3. azd login"
   ]
  },
  {
   "cell_type": "markdown",
   "id": "c3b068d0",
   "metadata": {},
   "source": [
    "### Test imports"
   ]
  },
  {
   "cell_type": "code",
   "execution_count": null,
   "id": "bfcd7c4a",
   "metadata": {},
   "outputs": [],
   "source": [
    "# Import packages\n",
    "import os\n",
    "from azure.ai.projects import AIProjectClient\n",
    "from azure.identity import DefaultAzureCredential\n",
    "from dotenv import load_dotenv\n",
    "\n",
    "load_dotenv(override=True) # Load environment variables from .env file"
   ]
  },
  {
   "cell_type": "markdown",
   "id": "9c8d27ac",
   "metadata": {},
   "source": [
    "### Test project connection"
   ]
  },
  {
   "cell_type": "code",
   "execution_count": null,
   "id": "0908f33c",
   "metadata": {},
   "outputs": [],
   "source": [
    "# Use the connection string to connect to your Foundry project\n",
    "project_connection_string = os.getenv(\"AIPROJECT_CONNECTION_STRING\")\n",
    "try:\n",
    "    project = AIProjectClient.from_connection_string(\n",
    "        conn_str=project_connection_string, credential=DefaultAzureCredential()\n",
    "    )\n",
    "except Exception as e:\n",
    "    print(f\"Failed to connect to project: {e}\")\n",
    "    raise\n"
   ]
  }
 ],
 "metadata": {
  "kernelspec": {
   "display_name": "Python 3",
   "language": "python",
   "name": "python3"
  },
  "language_info": {
   "codemirror_mode": {
    "name": "ipython",
    "version": 3
   },
   "file_extension": ".py",
   "mimetype": "text/x-python",
   "name": "python",
   "nbconvert_exporter": "python",
   "pygments_lexer": "ipython3",
   "version": "3.12.4"
  }
 },
 "nbformat": 4,
 "nbformat_minor": 5
}
