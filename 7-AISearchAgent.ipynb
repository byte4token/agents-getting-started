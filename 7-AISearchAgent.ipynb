{
 "cells": [
  {
   "cell_type": "markdown",
   "id": "3f177a16",
   "metadata": {},
   "source": [
    "### Setup"
   ]
  },
  {
   "cell_type": "markdown",
   "id": "4726e3ac",
   "metadata": {},
   "source": [
    "1. Create AI Search Connection\n",
    "2. Update AI_SEARCH_CONNECTION_NAME\n",
    "3. Update AI_SEARCH_INDEX_NAME"
   ]
  },
  {
   "cell_type": "markdown",
   "id": "afc27edb",
   "metadata": {},
   "source": [
    "### Connect to Foundry project"
   ]
  },
  {
   "cell_type": "code",
   "execution_count": null,
   "id": "e784d41e",
   "metadata": {},
   "outputs": [],
   "source": [
    "# Import packages\n",
    "import os\n",
    "from azure.ai.projects import AIProjectClient\n",
    "from azure.identity import DefaultAzureCredential\n",
    "from dotenv import load_dotenv\n",
    "\n",
    "load_dotenv(override=True) # Load environment variables from .env file\n",
    "\n",
    "# Use the connection string to connect to your Foundry project\n",
    "project_connection_string = os.getenv(\"AIPROJECT_CONNECTION_STRING\")\n",
    "try:\n",
    "    project = AIProjectClient.from_connection_string(\n",
    "        conn_str=project_connection_string, credential=DefaultAzureCredential()\n",
    "    )\n",
    "except Exception as e:\n",
    "    print(f\"Failed to connect to project: {e}\")\n",
    "    raise\n",
    "\n"
   ]
  },
  {
   "cell_type": "code",
   "execution_count": null,
   "id": "cbb2dd53",
   "metadata": {},
   "outputs": [],
   "source": [
    "from azure.ai.projects.models import AzureAISearchTool, AzureAISearchQueryType\n",
    "\n",
    "connection = project.connections.get(connection_name=os.environ[\"AI_SEARCH_CONNECTION_NAME\"])\n",
    "conn_id = connection.id\n",
    "indexName = os.environ[\"AI_SEARCH_INDEX_NAME\"]\n",
    "print(conn_id)\n",
    "\n",
    "# Initialize agent AI search tool and add the search index connection id\n",
    "ai_search = AzureAISearchTool(\n",
    "    index_connection_id=conn_id, index_name=indexName, query_type=AzureAISearchQueryType.SEMANTIC, top_k=3, filter=\"\"\n",
    ")\n",
    "\n",
    "# Create agent with AI search tool and process assistant run\n",
    "\n",
    "agent = project.agents.create_agent(\n",
    "    model=os.getenv(\"CHAT_MODEL\"),\n",
    "    name=\"AISearchAgent\",\n",
    "    instructions=\"You are a helpful assistant\",\n",
    "    tools=ai_search.definitions,\n",
    "    tool_resources=ai_search.resources\n",
    ")"
   ]
  },
  {
   "cell_type": "markdown",
   "id": "f08c456d",
   "metadata": {},
   "source": [
    "### Create a thread for conversation presistance"
   ]
  },
  {
   "cell_type": "code",
   "execution_count": null,
   "id": "fddcfd20",
   "metadata": {},
   "outputs": [],
   "source": [
    "# Create a thread\n",
    "thread = project.agents.create_thread()\n",
    "print(f\"Created thread, thread ID: {thread.id}\")"
   ]
  },
  {
   "cell_type": "code",
   "execution_count": null,
   "id": "b3594834",
   "metadata": {},
   "outputs": [],
   "source": [
    "def sendMessage(msg):\n",
    "    # Get messages from the thread\n",
    "    message = project.agents.create_message(\n",
    "            thread_id=thread.id,\n",
    "            role=\"user\",\n",
    "            content=msg\n",
    "        )\n",
    "    print(f\"Created message, ID: {message.id}\")\n",
    "\n",
    "    run = project.agents.create_and_process_run(thread_id=thread.id, agent_id=agent.id)\n",
    "    print(f\"Run finished with status: {run.status}\")\n",
    "\n",
    "    if run.status == \"failed\":\n",
    "            print(f\"Run failed: {run.last_error}\")\n",
    "            raise Exception(f\"Run failed: {run.last_error}\")\n",
    "\n",
    "    messages = project.agents.list_messages(thread_id=thread.id, order=\"asc\", after=message.id)\n",
    "    for msg in messages.data:\n",
    "        role = msg.role\n",
    "        content = msg.content[0].text.value\n",
    "        print(f\"{role.capitalize()}: {content}\")\n"
   ]
  },
  {
   "cell_type": "markdown",
   "id": "afd0d67d",
   "metadata": {},
   "source": [
    "### Get the response"
   ]
  },
  {
   "cell_type": "code",
   "execution_count": null,
   "id": "a47ec960",
   "metadata": {},
   "outputs": [],
   "source": [
    "sendMessage(\"Do you have his SEC fillinging?\")"
   ]
  }
 ],
 "metadata": {
  "kernelspec": {
   "display_name": "Python 3",
   "language": "python",
   "name": "python3"
  },
  "language_info": {
   "codemirror_mode": {
    "name": "ipython",
    "version": 3
   },
   "file_extension": ".py",
   "mimetype": "text/x-python",
   "name": "python",
   "nbconvert_exporter": "python",
   "pygments_lexer": "ipython3",
   "version": "3.12.4"
  }
 },
 "nbformat": 4,
 "nbformat_minor": 5
}
