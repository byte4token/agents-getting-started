{
 "cells": [
  {
   "cell_type": "code",
   "execution_count": null,
   "id": "ad3a87f7",
   "metadata": {},
   "outputs": [],
   "source": [
    "!pip install azure-ai-evaluation[redteam]\n"
   ]
  },
  {
   "cell_type": "markdown",
   "id": "2f819217",
   "metadata": {},
   "source": [
    "Note: Foundry Project should be in these regions:\n",
    "East US2,\n",
    "Sweden Central,\n",
    "France Central,\n",
    "Switzerland West,"
   ]
  },
  {
   "cell_type": "code",
   "execution_count": null,
   "id": "da6268ab",
   "metadata": {},
   "outputs": [],
   "source": [
    "# Azure imports\n",
    "from azure.identity import DefaultAzureCredential\n",
    "from azure.ai.evaluation.red_team import RedTeam, RiskCategory\n",
    "import os\n",
    "from dotenv import load_dotenv\n",
    "\n",
    "load_dotenv()\n",
    "# Azure AI Project Information\n",
    "azure_ai_project = {\n",
    "    \"subscription_id\": os.environ.get(\"AZURE_SUBSCRIPTION_ID\"),\n",
    "    \"resource_group_name\": os.environ.get(\"AZURE_RESOURCE_GROUP_NAME\"),\n",
    "    \"project_name\": os.environ.get(\"AZURE_PROJECT_NAME\"),\n",
    "}\n",
    "\n",
    "# Instantiate your AI Red Teaming Agent\n",
    "red_team_agent = RedTeam(\n",
    "    azure_ai_project=azure_ai_project, # required\n",
    "    credential=DefaultAzureCredential(), # required\n",
    "    risk_categories=[ # optional, defaults to all four risk categories\n",
    "        RiskCategory.Violence,\n",
    "        #RiskCategory.HateUnfairness,\n",
    "        #RiskCategory.Sexual,\n",
    "        #RiskCategory.SelfHarm\n",
    "    ], \n",
    "    num_objectives=2, # optional, defaults to 10\n",
    ")"
   ]
  },
  {
   "cell_type": "code",
   "execution_count": null,
   "id": "786750fd",
   "metadata": {},
   "outputs": [],
   "source": [
    "# Configuration for Azure OpenAI model\n",
    "azure_openai_config = {\n",
    "    \"azure_endpoint\": os.getenv(\"OAI_ENDPOINT\"),\n",
    "    \"azure_deployment\": os.getenv(\"CHAT_MODEL\"),\n",
    "}\n",
    "\n",
    "red_team_result = await red_team_agent.scan(target=azure_openai_config)"
   ]
  },
  {
   "cell_type": "code",
   "execution_count": null,
   "id": "50487f72",
   "metadata": {},
   "outputs": [],
   "source": [
    "import os\n",
    "from typing import Any\n",
    "from pathlib import Path\n",
    "from dotenv import load_dotenv\n",
    "from azure.ai.projects import AIProjectClient\n",
    "from azure.identity import DefaultAzureCredential\n",
    "from azure.ai.projects.models import CodeInterpreterTool\n",
    "\n",
    "# Connecting to our Azure AI Foundry project, which will allow us to use the deployed gpt-4o model\n",
    "project_connection_string = os.getenv(\"AIPROJECT_CONNECTION_STRING\")\n",
    "model = os.getenv(\"CHAT_MODEL\")\n",
    "\n",
    "project_client = AIProjectClient.from_connection_string(\n",
    "    conn_str=project_connection_string, credential=DefaultAzureCredential()\n",
    ")\n",
    "\n",
    "agent = project_client.agents.get_agent(\n",
    "    agent_id=\"asst_QawX7pFenC41tyDAis9ZVTDA\"\n",
    ")\n"
   ]
  },
  {
   "cell_type": "code",
   "execution_count": null,
   "id": "6da72a0e",
   "metadata": {},
   "outputs": [],
   "source": [
    "\n",
    "\n",
    "# Define a simple callback function that simulates a chatbot\n",
    "def simple_callback(query: str) -> str:\n",
    "    code_interpreter = CodeInterpreterTool()\n",
    "\n",
    "    # Create a thread which is a conversation session between an agent and a user.\n",
    "    thread = project_client.agents.create_thread()\n",
    "    print(f\"Created thread, thread ID: {thread.id}\")\n",
    "\n",
    "    message = project_client.agents.create_message(\n",
    "        thread_id=thread.id,\n",
    "        role=\"user\",\n",
    "        content=query,\n",
    "    )\n",
    "    print(f\"Created message, message ID: {message.id}\")\n",
    "\n",
    "    # Run the agent to process tne message in the thread\n",
    "    run = project_client.agents.create_and_process_run(thread_id=thread.id, agent_id=agent.id)\n",
    "    print(f\"Run finished with status: {run.status}\")\n",
    "\n",
    "    if run.status == \"failed\":\n",
    "        # Check if you got \"Rate limit is exceeded.\", then you want to increase the token limit\n",
    "        print(f\"Run failed: {run.last_error}\")\n",
    "\n",
    "    # Get all messages from the thread\n",
    "    messages = project_client.agents.list_messages(thread_id=thread.id)\n",
    "    print(f\"Messages: {messages}\")\n",
    "\n",
    "    return messages.data[0].content[0].text.value\n",
    "\n",
    "red_team_result = await red_team_agent.scan(target=simple_callback)\n"
   ]
  }
 ],
 "metadata": {
  "kernelspec": {
   "display_name": "Python 3",
   "language": "python",
   "name": "python3"
  },
  "language_info": {
   "codemirror_mode": {
    "name": "ipython",
    "version": 3
   },
   "file_extension": ".py",
   "mimetype": "text/x-python",
   "name": "python",
   "nbconvert_exporter": "python",
   "pygments_lexer": "ipython3",
   "version": "3.12.4"
  }
 },
 "nbformat": 4,
 "nbformat_minor": 5
}
