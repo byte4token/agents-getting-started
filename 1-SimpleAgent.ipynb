{
 "cells": [
  {
   "cell_type": "markdown",
   "id": "afc27edb",
   "metadata": {},
   "source": [
    "### Connect to Foundry project"
   ]
  },
  {
   "cell_type": "code",
   "execution_count": null,
   "id": "e784d41e",
   "metadata": {},
   "outputs": [],
   "source": [
    "# Import packages\n",
    "import os\n",
    "from azure.ai.projects import AIProjectClient\n",
    "from azure.identity import DefaultAzureCredential\n",
    "from dotenv import load_dotenv\n",
    "\n",
    "load_dotenv(override=True) # Load environment variables from .env file\n",
    "\n",
    "# Use the connection string to connect to your Foundry project\n",
    "project_connection_string = os.getenv(\"AIPROJECT_CONNECTION_STRING\")\n",
    "try:\n",
    "    project = AIProjectClient.from_connection_string(\n",
    "        conn_str=project_connection_string, credential=DefaultAzureCredential()\n",
    "    )\n",
    "except Exception as e:\n",
    "    print(f\"Failed to connect to project: {e}\")\n",
    "    raise\n",
    "\n"
   ]
  },
  {
   "cell_type": "markdown",
   "id": "ca917d09",
   "metadata": {},
   "source": [
    "### Create a simple agent"
   ]
  },
  {
   "cell_type": "code",
   "execution_count": null,
   "id": "19bb0df8",
   "metadata": {},
   "outputs": [],
   "source": [
    "## need to login using the command azd auth login\n",
    "agent = project.agents.create_agent(\n",
    "        model=os.getenv(\"CHAT_MODEL\"),\n",
    "        name=\"SimpleChatAgent\",\n",
    "        instructions=\"You are helpful AI assistant.\",\n",
    "     \n",
    "    )\n",
    "print(f\"Created agent, agent ID: {agent.id}\")"
   ]
  },
  {
   "cell_type": "markdown",
   "id": "f08c456d",
   "metadata": {},
   "source": [
    "### Create a thread for conversation presistance"
   ]
  },
  {
   "cell_type": "code",
   "execution_count": null,
   "id": "fddcfd20",
   "metadata": {},
   "outputs": [],
   "source": [
    "# Create a thread\n",
    "thread = project.agents.create_thread()\n",
    "print(f\"Created thread, thread ID: {thread.id}\")"
   ]
  },
  {
   "cell_type": "markdown",
   "id": "488f7324",
   "metadata": {},
   "source": [
    "### Create new message payload"
   ]
  },
  {
   "cell_type": "code",
   "execution_count": null,
   "id": "b3594834",
   "metadata": {},
   "outputs": [],
   "source": [
    "    # Get messages from the thread\n",
    "message = project.agents.create_message(\n",
    "        thread_id=thread.id,\n",
    "        role=\"user\",\n",
    "        content=\"Hey, can you tell a joke about teddy bears?\",\n",
    "    )\n",
    "print(f\"Created message, ID: {message.id}\")\n"
   ]
  },
  {
   "cell_type": "markdown",
   "id": "a1801ced",
   "metadata": {},
   "source": [
    "### Run the thread"
   ]
  },
  {
   "cell_type": "code",
   "execution_count": null,
   "id": "b7419f42",
   "metadata": {},
   "outputs": [],
   "source": [
    "run = project.agents.create_and_process_run(thread_id=thread.id, agent_id=agent.id)\n",
    "    # [END create_and_process_run]\n",
    "print(f\"Run finished with status: {run.status}\")\n",
    "\n",
    "if run.status == \"failed\":\n",
    "        print(f\"Run failed: {run.last_error}\")"
   ]
  },
  {
   "cell_type": "markdown",
   "id": "afd0d67d",
   "metadata": {},
   "source": [
    "### Get the response"
   ]
  },
  {
   "cell_type": "code",
   "execution_count": null,
   "id": "a47ec960",
   "metadata": {},
   "outputs": [],
   "source": [
    "messages = project.agents.list_messages(thread_id=thread.id)\n",
    "\n",
    "for msg in messages.data:\n",
    "    print(f\"Message ID: {msg.id}\")\n",
    "    print(f\"Role: {msg.role}\")\n",
    "    print(\"Content:\")\n",
    "    for content in msg.content:\n",
    "        if content['type'] == 'text':\n",
    "            print(content['text']['value'])\n",
    "    print(\"-\" * 50)\n",
    "\n",
    "# Delete the agent once done\n",
    "#project.agents.delete_agent(agent.id)\n",
    "#print(\"Deleted agent\")"
   ]
  }
 ],
 "metadata": {
  "kernelspec": {
   "display_name": "Python 3",
   "language": "python",
   "name": "python3"
  },
  "language_info": {
   "codemirror_mode": {
    "name": "ipython",
    "version": 3
   },
   "file_extension": ".py",
   "mimetype": "text/x-python",
   "name": "python",
   "nbconvert_exporter": "python",
   "pygments_lexer": "ipython3",
   "version": "3.12.4"
  }
 },
 "nbformat": 4,
 "nbformat_minor": 5
}
