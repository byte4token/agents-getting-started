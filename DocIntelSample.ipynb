{
 "cells": [
  {
   "cell_type": "code",
   "execution_count": null,
   "id": "8c6a411a",
   "metadata": {},
   "outputs": [],
   "source": [
    "!pip install azure.ai.documentintelligence "
   ]
  },
  {
   "cell_type": "code",
   "execution_count": null,
   "id": "7f44caf5",
   "metadata": {},
   "outputs": [],
   "source": [
    "# Import packages\n",
    "import os\n",
    "from azure.ai.projects import AIProjectClient\n",
    "from azure.identity import DefaultAzureCredential\n",
    "from dotenv import load_dotenv\n",
    "\n",
    "load_dotenv(override=True) # Load environment variables from .env file\n",
    "\n",
    "# Use the connection string to connect to your Foundry project\n",
    "project_connection_string = os.getenv(\"AIPROJECT_CONNECTION_STRING\")\n",
    "try:\n",
    "    project = AIProjectClient.from_connection_string(\n",
    "        conn_str=project_connection_string, credential=DefaultAzureCredential()\n",
    "    )\n",
    "except Exception as e:\n",
    "    print(f\"Failed to connect to project: {e}\")\n",
    "    raise\n"
   ]
  },
  {
   "cell_type": "code",
   "execution_count": null,
   "id": "6d46a8a3",
   "metadata": {},
   "outputs": [],
   "source": [
    "from azure.ai.projects.models import ConnectionType\n",
    "\n",
    "connection = project.connections.get_default(\n",
    "    connection_type=ConnectionType.AZURE_AI_SERVICES,\n",
    "    include_credentials=True,  # Optional. Defaults to \"False\".\n",
    ")\n",
    "print(connection)"
   ]
  },
  {
   "cell_type": "code",
   "execution_count": null,
   "id": "018848b0",
   "metadata": {},
   "outputs": [],
   "source": [
    "from azure.ai.documentintelligence import DocumentIntelligenceClient\n",
    "from azure.ai.documentintelligence.models import AnalyzeResult, DocumentContentFormat\n",
    "from azure.identity import DefaultAzureCredential\n",
    "from azure.core.credentials import AzureKeyCredential\n",
    "\n",
    "document_intelligence_client = DocumentIntelligenceClient(\n",
    "    endpoint = connection.endpoint_url,\n",
    "    credential=AzureKeyCredential(connection.key) # assuming the foundry is using a key credential. \n",
    ")\n",
    "\n"
   ]
  },
  {
   "cell_type": "markdown",
   "id": "295f5a8a",
   "metadata": {},
   "source": [
    "### Option 1: Convert the file to markdown"
   ]
  },
  {
   "cell_type": "code",
   "execution_count": null,
   "id": "c71f9e03",
   "metadata": {},
   "outputs": [],
   "source": [
    "pdf_fpath = \"data/0001062993-25-004143.pdf\"\n",
    "\n",
    "with open(pdf_fpath, \"rb\") as f:\n",
    "    poller = document_intelligence_client.begin_analyze_document(\n",
    "        model_id=\"prebuilt-layout\",\n",
    "        body=f,\n",
    "        output_content_format=DocumentContentFormat.MARKDOWN,\n",
    "        content_type=\"application/pdf\"\n",
    "    )\n",
    "\n",
    "result: AnalyzeResult = poller.result()\n",
    "\n",
    "markdown = result.content\n",
    "print(markdown[:1000])  # Print the first 1000 characters of the markdown content"
   ]
  },
  {
   "cell_type": "markdown",
   "id": "0b3709ec",
   "metadata": {},
   "source": [
    "### Option 2: Get detected keys or content"
   ]
  },
  {
   "cell_type": "code",
   "execution_count": null,
   "id": "dfeefaf6",
   "metadata": {},
   "outputs": [],
   "source": [
    "\n",
    "with open(pdf_fpath, \"rb\") as f:\n",
    "    poller = document_intelligence_client.begin_analyze_document(\n",
    "        model_id=\"prebuilt-layout\",\n",
    "        body=f,\n",
    "        output_content_format=DocumentContentFormat.Text,\n",
    "        features=[\"keyValuePairs\"],\n",
    "        content_type=\"application/pdf\"\n",
    "    )\n",
    "\n",
    "result: AnalyzeResult = poller.result()\n",
    "\n",
    "print(\"----Key-value pairs found in document----\")\n",
    "if result.key_value_pairs:\n",
    "    for kv_pair in result.key_value_pairs:\n",
    "        if kv_pair.key:\n",
    "            print(f\"Key '{kv_pair.key.content}' found within \" f\"'{kv_pair.key.bounding_regions}' bounding regions\")\n",
    "        if kv_pair.value:\n",
    "            print(\n",
    "                f\"Value '{kv_pair.value.content}' found within \"\n",
    "                f\"'{kv_pair.value.bounding_regions}' bounding regions\\n\"\n",
    "            )"
   ]
  }
 ],
 "metadata": {
  "kernelspec": {
   "display_name": "Python 3",
   "language": "python",
   "name": "python3"
  },
  "language_info": {
   "codemirror_mode": {
    "name": "ipython",
    "version": 3
   },
   "file_extension": ".py",
   "mimetype": "text/x-python",
   "name": "python",
   "nbconvert_exporter": "python",
   "pygments_lexer": "ipython3",
   "version": "3.12.4"
  }
 },
 "nbformat": 4,
 "nbformat_minor": 5
}
