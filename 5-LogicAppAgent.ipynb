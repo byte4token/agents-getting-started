{
 "cells": [
  {
   "cell_type": "markdown",
   "id": "afc27edb",
   "metadata": {},
   "source": [
    "### Setup"
   ]
  },
  {
   "cell_type": "markdown",
   "id": "6b206e5e",
   "metadata": {},
   "source": [
    "Update the url and run the block to update the weather api spec"
   ]
  },
  {
   "cell_type": "code",
   "execution_count": null,
   "id": "25cdc43f",
   "metadata": {},
   "outputs": [],
   "source": [
    "# use a url parser to get hostname, path and query strings\n",
    "url = \"\"\n",
    "\n",
    "from urllib.parse import urlparse, parse_qs\n",
    "import json\n",
    "\n",
    "# Parse the URL\n",
    "parsed_url = urlparse(url)\n",
    "# Extract the hostname, path, and query string\n",
    "hostname = parsed_url.hostname\n",
    "path = parsed_url.path  \n",
    "query_string = parsed_url.query\n",
    "# Parse the query string into a dictionary\n",
    "query_dict = parse_qs(query_string)\n",
    "# Convert the dictionary to a JSON string\n",
    "query_json = json.dumps(query_dict, indent=4)\n",
    "# Print the results\n",
    "print(\"Hostname:\", hostname)\n",
    "print(\"Path:\", path)\n",
    "print(\"Query String:\", query_string)\n",
    "print(\"Query Dictionary:\", query_dict)\n",
    "\n",
    "# read json file\n",
    "import json\n",
    "import os   \n",
    "\n",
    "with open(\"conf/weather_openapi_template.json\", \"r\") as f:\n",
    "    txt = f.read()\n",
    "    txt = txt.replace(\"{path}\", path)\n",
    "    txt = txt.replace(\"{hostname}\", hostname)\n",
    "    # Parse query_json back into a dictionary\n",
    "    query_dict_parsed = json.loads(query_json)\n",
    "    \n",
    "    txt = txt.replace(\"{sig}\", query_dict_parsed[\"sig\"][0])\n",
    "    txt = txt.replace(\"{sp}\", query_dict_parsed[\"sp\"][0])\n",
    "\n",
    "    #update file\n",
    "    with open(\"conf/weather_openapi.json\", \"w\") as f:\n",
    "        f.write(txt)\n",
    "\n",
    "\n",
    "\n",
    "\n"
   ]
  },
  {
   "cell_type": "code",
   "execution_count": null,
   "id": "e784d41e",
   "metadata": {},
   "outputs": [],
   "source": [
    "# Import packages\n",
    "import os\n",
    "from azure.ai.projects import AIProjectClient\n",
    "from azure.identity import DefaultAzureCredential\n",
    "from dotenv import load_dotenv\n",
    "\n",
    "load_dotenv(override=True) # Load environment variables from .env file\n",
    "\n",
    "# Use the connection string to connect to your Foundry project\n",
    "project_connection_string = os.getenv(\"AIPROJECT_CONNECTION_STRING\")\n",
    "try:\n",
    "    project = AIProjectClient.from_connection_string(\n",
    "        conn_str=project_connection_string, credential=DefaultAzureCredential()\n",
    "    )\n",
    "except Exception as e:\n",
    "    print(f\"Failed to connect to project: {e}\")\n",
    "    raise\n",
    "\n"
   ]
  },
  {
   "cell_type": "code",
   "execution_count": null,
   "id": "4f61b6aa",
   "metadata": {},
   "outputs": [],
   "source": [
    "import json\n",
    "from azure.ai.projects.models import OpenApiAnonymousAuthDetails, OpenApiTool\n",
    "\n",
    "with open(\"conf/weather_openapi.json\", \"r\") as f:\n",
    "    openapi_weather = json.loads(f.read())\n",
    "\n",
    "# Create Auth object for the OpenApiTool (note that connection or managed identity auth setup requires additional setup in Azure)\n",
    "auth = OpenApiAnonymousAuthDetails()\n",
    "\n",
    "# Initialize agent OpenApi tool using the read in OpenAPI spec\n",
    "openapi_tool = OpenApiTool(\n",
    "    name=\"get_weather\",\n",
    "    spec=openapi_weather,\n",
    "    description=\"Retrieve weather information for a location\",\n",
    "    auth=auth\n",
    ")\n"
   ]
  },
  {
   "cell_type": "markdown",
   "id": "ca917d09",
   "metadata": {},
   "source": [
    "### Create a simple agent"
   ]
  },
  {
   "cell_type": "code",
   "execution_count": null,
   "id": "19bb0df8",
   "metadata": {},
   "outputs": [],
   "source": [
    "## need to login using the command azd auth login\n",
    "agent = project.agents.create_agent(\n",
    "        model=os.getenv(\"CHAT_MODEL\"),\n",
    "        name=\"LogicAppAgent\",\n",
    "        instructions=\"You are helpful AI assistant.\",\n",
    "        tools=openapi_tool.definitions,\n",
    "        tool_resources=openapi_tool.resources\n",
    "    )\n",
    "print(f\"Created agent, agent ID: {agent.id}\")"
   ]
  },
  {
   "cell_type": "markdown",
   "id": "f08c456d",
   "metadata": {},
   "source": [
    "### Create a thread for conversation presistance"
   ]
  },
  {
   "cell_type": "code",
   "execution_count": null,
   "id": "fddcfd20",
   "metadata": {},
   "outputs": [],
   "source": [
    "# Create a thread\n",
    "thread = project.agents.create_thread()\n",
    "print(f\"Created thread, thread ID: {thread.id}\")"
   ]
  },
  {
   "cell_type": "code",
   "execution_count": null,
   "id": "b3594834",
   "metadata": {},
   "outputs": [],
   "source": [
    "def sendMessage(msg):\n",
    "    # Get messages from the thread\n",
    "    message = project.agents.create_message(\n",
    "            thread_id=thread.id,\n",
    "            role=\"user\",\n",
    "            content=msg\n",
    "        )\n",
    "    print(f\"Created message, ID: {message.id}\")\n",
    "\n",
    "    run = project.agents.create_and_process_run(thread_id=thread.id, agent_id=agent.id)\n",
    "    print(f\"Run finished with status: {run.status}\")\n",
    "\n",
    "    if run.status == \"failed\":\n",
    "            print(f\"Run failed: {run.last_error}\")\n",
    "            raise Exception(f\"Run failed: {run.last_error}\")\n",
    "\n",
    "    messages = project.agents.list_messages(thread_id=thread.id, order=\"asc\", after=message.id)\n",
    "    for msg in messages.data:\n",
    "        role = msg.role\n",
    "        content = msg.content[0].text.value\n",
    "        print(f\"{role.capitalize()}: {content}\")\n"
   ]
  },
  {
   "cell_type": "markdown",
   "id": "afd0d67d",
   "metadata": {},
   "source": [
    "### Get the response"
   ]
  },
  {
   "cell_type": "code",
   "execution_count": null,
   "id": "a47ec960",
   "metadata": {},
   "outputs": [],
   "source": [
    "sendMessage(\"What is the weather in Bombay?\")"
   ]
  }
 ],
 "metadata": {
  "kernelspec": {
   "display_name": "Python 3",
   "language": "python",
   "name": "python3"
  },
  "language_info": {
   "codemirror_mode": {
    "name": "ipython",
    "version": 3
   },
   "file_extension": ".py",
   "mimetype": "text/x-python",
   "name": "python",
   "nbconvert_exporter": "python",
   "pygments_lexer": "ipython3",
   "version": "3.12.4"
  }
 },
 "nbformat": 4,
 "nbformat_minor": 5
}
