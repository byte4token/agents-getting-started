{
 "cells": [
  {
   "cell_type": "markdown",
   "id": "1d99645c",
   "metadata": {},
   "source": [
    "# Code Interpreter Agent\n",
    "\n",
    "### Connect to the Foundry"
   ]
  },
  {
   "cell_type": "code",
   "execution_count": null,
   "id": "89b5e093",
   "metadata": {},
   "outputs": [],
   "source": [
    "# Import packages\n",
    "import os\n",
    "from azure.ai.projects import AIProjectClient\n",
    "from azure.identity import DefaultAzureCredential\n",
    "from dotenv import load_dotenv\n",
    "\n",
    "load_dotenv(override=True) # Load environment variables from .env file\n",
    "\n",
    "# Use the connection string to connect to your Foundry project\n",
    "project_connection_string = os.getenv(\"AIPROJECT_CONNECTION_STRING\")\n",
    "try:\n",
    "    project = AIProjectClient.from_connection_string(\n",
    "        conn_str=project_connection_string, credential=DefaultAzureCredential()\n",
    "    )\n",
    "except Exception as e:\n",
    "    print(f\"Failed to connect to project: {e}\")\n",
    "    raise\n"
   ]
  },
  {
   "cell_type": "markdown",
   "id": "3317864d",
   "metadata": {},
   "source": [
    "### Upload the files"
   ]
  },
  {
   "cell_type": "code",
   "execution_count": null,
   "id": "b78c7e03",
   "metadata": {},
   "outputs": [],
   "source": [
    "uploaded_file_ids = []\n",
    "\n",
    "try:\n",
    "    for local_file in os.listdir(\"data\"):\n",
    "\n",
    "        # Define the local file path\n",
    "        local_file_path = os.path.join(\"data\", local_file)\n",
    "\n",
    "        print(f\"Processing File '{local_file_path}'...\")\n",
    "\n",
    "        # Use the upload and poll SDK helper to upload the local file, add them to the vector store,\n",
    "        # and poll the status of the file batch for completion.\n",
    "        file = project.agents.upload_file_and_poll(file_path=local_file_path, purpose=\"assistants\")\n",
    "        uploaded_file_ids.append(file.id)\n",
    "\n",
    "        print(f\"Uploaded file, file ID: {file.id}\")\n",
    "\n",
    "            \n",
    "    print(f\"File IDs: {uploaded_file_ids}\")\n",
    "\n",
    "except FileNotFoundError:\n",
    "    print(f\"Error: The file '{curr_file}' was not found.\")\n",
    "    raise\n",
    "\n",
    "except Exception as e:\n",
    "    print(f\"An error occurred while processing the Excel file: {e}\")\n",
    "    raise"
   ]
  },
  {
   "cell_type": "code",
   "execution_count": null,
   "id": "ee058ef0",
   "metadata": {},
   "outputs": [],
   "source": [
    "uploaded_file_ids = uploaded_file_ids[:2]"
   ]
  },
  {
   "cell_type": "markdown",
   "id": "18bb20e3",
   "metadata": {},
   "source": [
    "### Create the Agent with CodeInterpreter Tool"
   ]
  },
  {
   "cell_type": "code",
   "execution_count": null,
   "id": "537b102c",
   "metadata": {},
   "outputs": [],
   "source": [
    "from azure.ai.projects.models import CodeInterpreterTool\n",
    "\n",
    "# Create file search tool with resources followed by creating agent\n",
    "code_tool = CodeInterpreterTool(file_ids=uploaded_file_ids)\n",
    "print(f\"CodeInterpreter tool created.\")\n",
    "\n",
    "\n",
    "## need to login using the command azd auth login\n",
    "agent = project.agents.create_agent(\n",
    "        model=os.getenv(\"CHAT_MODEL\"),\n",
    "        name=\"CodeInterpreterAgent\",\n",
    "        instructions=\"You are helpful AI assistant.\",\n",
    "     \n",
    "        tools=code_tool.definitions,\n",
    "        tool_resources=code_tool.resources\n",
    "    )\n",
    "print(f\"Created agent, agent ID: {agent.id}\")"
   ]
  },
  {
   "cell_type": "code",
   "execution_count": null,
   "id": "2ecdf5a1",
   "metadata": {},
   "outputs": [],
   "source": [
    "# Create a thread\n",
    "thread = project.agents.create_thread()\n",
    "print(f\"Created thread, thread ID: {thread.id}\")"
   ]
  },
  {
   "cell_type": "markdown",
   "id": "1adac8d6",
   "metadata": {},
   "source": [
    "### Util method message handeling"
   ]
  },
  {
   "cell_type": "code",
   "execution_count": null,
   "id": "d141e415",
   "metadata": {},
   "outputs": [],
   "source": [
    "def sendMessage(msg):\n",
    "    # Get messages from the thread\n",
    "    message = project.agents.create_message(\n",
    "            thread_id=thread.id,\n",
    "            role=\"user\",\n",
    "            content=msg\n",
    "        )\n",
    "    print(f\"Created message, ID: {message.id}\")\n",
    "\n",
    "    run = project.agents.create_and_process_run(thread_id=thread.id, agent_id=agent.id)\n",
    "    print(f\"Run finished with status: {run.status}\")\n",
    "\n",
    "    if run.status == \"failed\":\n",
    "            print(f\"Run failed: {run.last_error}\")\n",
    "            raise Exception(f\"Run failed: {run.last_error}\")\n",
    "\n",
    "    messages = project.agents.list_messages(thread_id=thread.id, order=\"asc\", after=message.id)\n",
    "    for msg in messages.data:\n",
    "        role = msg.role\n",
    "        content = msg.content[0].text.value\n",
    "        print(f\"{role.capitalize()}: {content}\")\n"
   ]
  },
  {
   "cell_type": "code",
   "execution_count": null,
   "id": "fa094329",
   "metadata": {},
   "outputs": [],
   "source": [
    "sendMessage(\"Each file contains a form. Extract the name of the person from each form. Output the result in a table with two columns: file name and name of the person. The file names should be the same as the original file names.\")"
   ]
  },
  {
   "cell_type": "code",
   "execution_count": null,
   "id": "32a0b992",
   "metadata": {},
   "outputs": [],
   "source": [
    "sendMessage(\"Also include the number of stocks owned by each person.\")"
   ]
  }
 ],
 "metadata": {
  "kernelspec": {
   "display_name": "Python 3",
   "language": "python",
   "name": "python3"
  },
  "language_info": {
   "codemirror_mode": {
    "name": "ipython",
    "version": 3
   },
   "file_extension": ".py",
   "mimetype": "text/x-python",
   "name": "python",
   "nbconvert_exporter": "python",
   "pygments_lexer": "ipython3",
   "version": "3.12.4"
  }
 },
 "nbformat": 4,
 "nbformat_minor": 5
}
